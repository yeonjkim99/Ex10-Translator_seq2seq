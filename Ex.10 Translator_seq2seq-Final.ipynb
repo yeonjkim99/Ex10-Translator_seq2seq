{
 "cells": [
  {
   "cell_type": "markdown",
   "id": "54187839",
   "metadata": {},
   "source": [
    "# Ex10. 프로젝트 : 단어 Level로 번역기 업그레이드하기"
   ]
  },
  {
   "cell_type": "markdown",
   "id": "01561006",
   "metadata": {},
   "source": [
    "## 0. 환경설정 및 라이브러리 import"
   ]
  },
  {
   "cell_type": "code",
   "execution_count": 1,
   "id": "be366d9e",
   "metadata": {},
   "outputs": [],
   "source": [
    "# ! mkdir -p ~/aiffel/translator_seq2seq/data\n",
    "# ! mkdir -p ~/aiffel/translator_seq2seq/models\n",
    "# ! wget https://www.manythings.org/anki/fra-eng.zip\n",
    "# ! mv fra-eng.zip  ~/aiffel/translator_seq2seq/data\n",
    "# ! cd ~/aiffel/translator_seq2seq/data && unzip fra-eng.zip"
   ]
  },
  {
   "cell_type": "code",
   "execution_count": 2,
   "id": "e5d56692",
   "metadata": {},
   "outputs": [],
   "source": [
    "import os\n",
    "import re\n",
    "import unicodedata\n",
    "\n",
    "import numpy as np\n",
    "import pandas as pd\n",
    "import tensorflow as tf\n",
    "import matplotlib.pyplot as plt\n",
    "\n",
    "from tensorflow.keras.models import Model\n",
    "from tensorflow.keras.layers import Input, LSTM, Embedding, Dense, Masking\n",
    "from tensorflow.keras.preprocessing.sequence import pad_sequences\n",
    "from tensorflow.keras.preprocessing.text import Tokenizer"
   ]
  },
  {
   "cell_type": "markdown",
   "id": "9d70f092",
   "metadata": {},
   "source": [
    "## 1. 정제, 정규화, 전처리 (영어, 프랑스어 모두!)"
   ]
  },
  {
   "cell_type": "markdown",
   "id": "df393f5a",
   "metadata": {},
   "source": [
    "### 1-1. 전처리 함수 구현"
   ]
  },
  {
   "cell_type": "code",
   "execution_count": 3,
   "id": "e78526d6",
   "metadata": {},
   "outputs": [],
   "source": [
    "def to_ascii(s):\n",
    "    # 프랑스어 악센트(accent) 삭제\n",
    "    # 예시 : 'déjà diné' -> deja dine\n",
    "    return ''.join(c for c in unicodedata.normalize('NFD', s)\n",
    "                   if unicodedata.category(c) != 'Mn')\n",
    "\n",
    "def preprocess_sentence(sent):\n",
    "    # 악센트 제거 함수 호출\n",
    "    sent = to_ascii(sent.lower())\n",
    "\n",
    "    # 단어와 구두점 사이에 공백 추가.\n",
    "    # ex) \"I am a student.\" => \"I am a student .\"\n",
    "    sent = re.sub(r\"([?!,.])\", r\" \\1\", sent)\n",
    "\n",
    "    # (a-z, A-Z, \"?\", \"!\", \",\", \".\", \"'\") 이들을 제외하고는 전부 공백으로 변환.\n",
    "    sent = re.sub(r\"[^a-zA-Z?!,.']+\", r\" \", sent)\n",
    "\n",
    "    # 다수 개의 공백을 하나의 공백으로 치환\n",
    "    sent = re.sub(r\"\\s+\", \" \", sent)\n",
    "\n",
    "    return sent"
   ]
  },
  {
   "cell_type": "markdown",
   "id": "0c88c1dd",
   "metadata": {},
   "source": [
    "### 1-2. 데이타 로딩,불필요한 프랑스어 액센트 삭제, 불필요한 구두점 제거 및 시작토큰/종료토큰 추가"
   ]
  },
  {
   "cell_type": "code",
   "execution_count": 4,
   "id": "9d46f95c",
   "metadata": {},
   "outputs": [],
   "source": [
    "def load_preprocessed_data(num_samples):\n",
    "    encoder_input, decoder_input, decoder_target = [], [], []\n",
    "\n",
    "    with open(\"fra.txt\", \"r\") as lines:\n",
    "        for i, line in enumerate(lines):\n",
    "            # source 데이터와 target 데이터 분리\n",
    "            src_line, tar_line, _ = line.strip().split('\\t')\n",
    "\n",
    "            # source 데이터 전처리\n",
    "            src_line = [w for w in preprocess_sentence(src_line).split()]\n",
    "\n",
    "            # target 데이터 전처리\n",
    "            tar_line = preprocess_sentence(tar_line)\n",
    "            tar_line_in = [w for w in (\"<sos> \" + tar_line).split()]\n",
    "            tar_line_out = [w for w in (tar_line + \" <eos>\").split()]\n",
    "\n",
    "            encoder_input.append(src_line)\n",
    "            decoder_input.append(tar_line_in)\n",
    "            decoder_target.append(tar_line_out)\n",
    "\n",
    "            if i == num_samples - 1:\n",
    "                break\n",
    "\n",
    "    return encoder_input, decoder_input, decoder_target"
   ]
  },
  {
   "cell_type": "code",
   "execution_count": 5,
   "id": "563c28e5",
   "metadata": {},
   "outputs": [
    {
     "name": "stdout",
     "output_type": "stream",
     "text": [
      "인코더의 입력 : [['go', '.'], ['go', '.'], ['go', '.'], ['go', '.'], ['hi', '.'], ['hi', '.'], ['run', '!'], ['run', '!'], ['run', '!'], ['run', '!']]\n",
      "디코더의 입력 : [['<sos>', 'va', '!'], ['<sos>', 'marche', '.'], ['<sos>', 'en', 'route', '!'], ['<sos>', 'bouge', '!'], ['<sos>', 'salut', '!'], ['<sos>', 'salut', '.'], ['<sos>', 'cours', '!'], ['<sos>', 'courez', '!'], ['<sos>', 'prenez', 'vos', 'jambes', 'a', 'vos', 'cous', '!'], ['<sos>', 'file', '!']]\n",
      "디코더의 레이블 : [['va', '!', '<eos>'], ['marche', '.', '<eos>'], ['en', 'route', '!', '<eos>'], ['bouge', '!', '<eos>'], ['salut', '!', '<eos>'], ['salut', '.', '<eos>'], ['cours', '!', '<eos>'], ['courez', '!', '<eos>'], ['prenez', 'vos', 'jambes', 'a', 'vos', 'cous', '!', '<eos>'], ['file', '!', '<eos>']]\n"
     ]
    }
   ],
   "source": [
    "num_samples = 33000\n",
    "\n",
    "sents_en_in, sents_fra_in, sents_fra_out = load_preprocessed_data(num_samples)\n",
    "print('인코더의 입력 :',sents_en_in[:10])\n",
    "print('디코더의 입력 :',sents_fra_in[:10])\n",
    "print('디코더의 레이블 :',sents_fra_out[:10])"
   ]
  },
  {
   "cell_type": "markdown",
   "id": "55762bc2",
   "metadata": {},
   "source": [
    "#### 데이터에대한 전처리가 잘 수행되었다."
   ]
  },
  {
   "cell_type": "markdown",
   "id": "1c510f85",
   "metadata": {},
   "source": [
    "## 2. 띄어쓰기 단위로 토크나이징, 정수 인코딩 및 패딩 진행"
   ]
  },
  {
   "cell_type": "code",
   "execution_count": 6,
   "id": "3f4ea79b",
   "metadata": {},
   "outputs": [
    {
     "name": "stdout",
     "output_type": "stream",
     "text": [
      "인코더의 입력의 크기(shape) : (33000, 7)\n",
      "디코더의 입력의 크기(shape) : (33000, 15)\n",
      "디코더의 레이블의 크기(shape) : (33000, 15)\n",
      "\n",
      "[[ 38   2  85   1   0   0   0]\n",
      " [420   1   0   0   0   0   0]\n",
      " [316 680   1   0   0   0   0]\n",
      " [316 680   1   0   0   0   0]\n",
      " [316  14   1   0   0   0   0]\n",
      " [316  14   1   0   0   0   0]\n",
      " [316  14   1   0   0   0   0]\n",
      " [316  14   1   0   0   0   0]\n",
      " [316  14   1   0   0   0   0]\n",
      " [ 48 488  20   0   0   0   0]]\n",
      "\n",
      "[[   2   25  220    1    0    0    0    0    0    0    0    0    0    0\n",
      "     0]\n",
      " [   2  399 1230 5114    1    0    0    0    0    0    0    0    0    0\n",
      "     0]\n",
      " [   2 5115   82  485    7    0    0    0    0    0    0    0    0    0\n",
      "     0]\n",
      " [   2  805   13  485    7    0    0    0    0    0    0    0    0    0\n",
      "     0]\n",
      " [   2  528    1    0    0    0    0    0    0    0    0    0    0    0\n",
      "     0]\n",
      " [   2  470   26    7    0    0    0    0    0    0    0    0    0    0\n",
      "     0]\n",
      " [   2  528   26    7    0    0    0    0    0    0    0    0    0    0\n",
      "     0]\n",
      " [   2  528   99    7    0    0    0    0    0    0    0    0    0    0\n",
      "     0]\n",
      " [   2  470   99    7    0    0    0    0    0    0    0    0    0    0\n",
      "     0]\n",
      " [   2   20 2246    7    0    0    0    0    0    0    0    0    0    0\n",
      "     0]]\n",
      "\n",
      "[[  25  220    1    3    0    0    0    0    0    0    0    0    0    0\n",
      "     0]\n",
      " [ 399 1230 5114    1    3    0    0    0    0    0    0    0    0    0\n",
      "     0]\n",
      " [5115   82  485    7    3    0    0    0    0    0    0    0    0    0\n",
      "     0]\n",
      " [ 805   13  485    7    3    0    0    0    0    0    0    0    0    0\n",
      "     0]\n",
      " [ 528    1    3    0    0    0    0    0    0    0    0    0    0    0\n",
      "     0]\n",
      " [ 470   26    7    3    0    0    0    0    0    0    0    0    0    0\n",
      "     0]\n",
      " [ 528   26    7    3    0    0    0    0    0    0    0    0    0    0\n",
      "     0]\n",
      " [ 528   99    7    3    0    0    0    0    0    0    0    0    0    0\n",
      "     0]\n",
      " [ 470   99    7    3    0    0    0    0    0    0    0    0    0    0\n",
      "     0]\n",
      " [  20 2246    7    3    0    0    0    0    0    0    0    0    0    0\n",
      "     0]]\n"
     ]
    }
   ],
   "source": [
    "tokenizer_en = Tokenizer(filters=\"\", lower=False)\n",
    "tokenizer_en.fit_on_texts(sents_en_in)                        # 띄어쓰기 단위로 토크나이징\n",
    "encoder_input = tokenizer_en.texts_to_sequences(sents_en_in)  # 정수 인코딩\n",
    "encoder_input = pad_sequences(encoder_input, padding=\"post\")  # 패딩 진행  \n",
    "\n",
    "tokenizer_fra = Tokenizer(filters=\"\", lower=False)\n",
    "tokenizer_fra.fit_on_texts(sents_fra_in)\n",
    "tokenizer_fra.fit_on_texts(sents_fra_out)\n",
    "\n",
    "decoder_input = tokenizer_fra.texts_to_sequences(sents_fra_in)\n",
    "decoder_input = pad_sequences(decoder_input, padding=\"post\")\n",
    "\n",
    "decoder_target = tokenizer_fra.texts_to_sequences(sents_fra_out)\n",
    "decoder_target = pad_sequences(decoder_target, padding=\"post\")\n",
    "\n",
    "print('인코더의 입력의 크기(shape) :',encoder_input.shape)\n",
    "print('디코더의 입력의 크기(shape) :',decoder_input.shape)\n",
    "print('디코더의 레이블의 크기(shape) :',decoder_target.shape)\n",
    "\n",
    "print()\n",
    "print(encoder_input[1000:1010])\n",
    "print()\n",
    "print(decoder_input[1000:1010])\n",
    "print()\n",
    "print(decoder_target[1000:1010])"
   ]
  },
  {
   "cell_type": "markdown",
   "id": "1358e68b",
   "metadata": {},
   "source": [
    "#### 토크나이징, 정수 인코딩 및 패딩까지 잘 진행되었다."
   ]
  },
  {
   "cell_type": "markdown",
   "id": "4c2f6396",
   "metadata": {},
   "source": [
    "## 3. 영어, 프랑스어 단어장 만들기"
   ]
  },
  {
   "cell_type": "code",
   "execution_count": 7,
   "id": "2a1e583a",
   "metadata": {},
   "outputs": [
    {
     "name": "stdout",
     "output_type": "stream",
     "text": [
      "영어 단어 집합의 크기 : 4769, 프랑스어 단어 집합의 크기 : 8728\n"
     ]
    }
   ],
   "source": [
    "src_vocab_size = len(tokenizer_en.word_index) + 1\n",
    "tar_vocab_size = len(tokenizer_fra.word_index) + 1\n",
    "print(\"영어 단어 집합의 크기 : {:d}, 프랑스어 단어 집합의 크기 : {:d}\".format(src_vocab_size, tar_vocab_size))"
   ]
  },
  {
   "cell_type": "code",
   "execution_count": 8,
   "id": "30355f42",
   "metadata": {},
   "outputs": [],
   "source": [
    "# 단어장을 만듦, 예측값과 실제값을 비교하는데 사용\n",
    "src_to_index = tokenizer_en.word_index\n",
    "index_to_src = tokenizer_en.index_word\n",
    "tar_to_index = tokenizer_fra.word_index\n",
    "index_to_tar = tokenizer_fra.index_word"
   ]
  },
  {
   "cell_type": "markdown",
   "id": "0fe11228",
   "metadata": {},
   "source": [
    "### 3-5. 전체 데이타 33000개 중 3000개를 validation용으로 분리"
   ]
  },
  {
   "cell_type": "code",
   "execution_count": 9,
   "id": "24ec19ee",
   "metadata": {},
   "outputs": [
    {
     "name": "stdout",
     "output_type": "stream",
     "text": [
      "랜덤 시퀀스 : [21858 12609 12035 ... 21096 15230  6793]\n"
     ]
    }
   ],
   "source": [
    "indices = np.arange(encoder_input.shape[0])\n",
    "np.random.shuffle(indices)\n",
    "print('랜덤 시퀀스 :',indices)"
   ]
  },
  {
   "cell_type": "code",
   "execution_count": 10,
   "id": "3f69209d",
   "metadata": {},
   "outputs": [],
   "source": [
    "# 데이터셋의 순서로 지정 (기존과 다른 순서로 섞임)\n",
    "encoder_input = encoder_input[indices]\n",
    "decoder_input = decoder_input[indices]\n",
    "decoder_target = decoder_target[indices]"
   ]
  },
  {
   "cell_type": "code",
   "execution_count": 11,
   "id": "cdfd6d76",
   "metadata": {},
   "outputs": [
    {
     "name": "stdout",
     "output_type": "stream",
     "text": [
      "훈련 source 데이터의 크기 : (30000, 7)\n",
      "훈련 target 데이터의 크기 : (30000, 15)\n",
      "훈련 target 레이블의 크기 : (30000, 15)\n",
      "테스트 source 데이터의 크기 : (3000, 7)\n",
      "테스트 target 데이터의 크기 : (3000, 15)\n",
      "테스트 target 레이블의 크기 : (3000, 15)\n"
     ]
    }
   ],
   "source": [
    "n_of_val = 3000\n",
    "\n",
    "encoder_input_train = encoder_input[:-n_of_val]\n",
    "decoder_input_train = decoder_input[:-n_of_val]\n",
    "decoder_target_train = decoder_target[:-n_of_val]\n",
    "\n",
    "encoder_input_test = encoder_input[-n_of_val:]\n",
    "decoder_input_test = decoder_input[-n_of_val:]\n",
    "decoder_target_test = decoder_target[-n_of_val:]\n",
    "\n",
    "print('훈련 source 데이터의 크기 :',encoder_input_train.shape)\n",
    "print('훈련 target 데이터의 크기 :',decoder_input_train.shape)\n",
    "print('훈련 target 레이블의 크기 :',decoder_target_train.shape)\n",
    "print('테스트 source 데이터의 크기 :',encoder_input_test.shape)\n",
    "print('테스트 target 데이터의 크기 :',decoder_input_test.shape)\n",
    "print('테스트 target 레이블의 크기 :',decoder_target_test.shape)"
   ]
  },
  {
   "cell_type": "markdown",
   "id": "ad9d6f60",
   "metadata": {},
   "source": [
    "## 4. 임베딩 층(Embedding layer) 사용하기"
   ]
  },
  {
   "cell_type": "markdown",
   "id": "65fa8786",
   "metadata": {},
   "source": [
    "### 4-1. 모델 작성하기"
   ]
  },
  {
   "cell_type": "code",
   "execution_count": 12,
   "id": "007fa9b3",
   "metadata": {},
   "outputs": [],
   "source": [
    "embedding_dim = 128\n",
    "hidden_units = 128"
   ]
  },
  {
   "cell_type": "code",
   "execution_count": 13,
   "id": "03188769",
   "metadata": {},
   "outputs": [
    {
     "name": "stdout",
     "output_type": "stream",
     "text": [
      "WARNING:tensorflow:Layer lstm will not use cuDNN kernels since it doesn't meet the criteria. It will use a generic GPU kernel as fallback when running on GPU.\n"
     ]
    }
   ],
   "source": [
    "# 인코더\n",
    "encoder_inputs = Input(shape=(None,))\n",
    "enc_emb = Embedding(src_vocab_size, embedding_dim)(encoder_inputs) # 임베딩 층\n",
    "enc_masking = Masking(mask_value=0.0)(enc_emb) # 패딩 0은 연산에서 제외\n",
    "encoder_lstm = LSTM(hidden_units, dropout = 0.4, recurrent_dropout=0.4, return_state=True) # 상태값 리턴을 위해 return_state는 True\n",
    "encoder_outputs, state_h, state_c = encoder_lstm(enc_masking) # 은닉 상태와 셀 상태를 리턴\n",
    "encoder_states = [state_h, state_c] # 인코더의 은닉 상태와 셀 상태를 저장"
   ]
  },
  {
   "cell_type": "code",
   "execution_count": 14,
   "id": "bd725507",
   "metadata": {},
   "outputs": [
    {
     "name": "stdout",
     "output_type": "stream",
     "text": [
      "WARNING:tensorflow:Layer lstm_1 will not use cuDNN kernels since it doesn't meet the criteria. It will use a generic GPU kernel as fallback when running on GPU.\n",
      "Model: \"model\"\n",
      "__________________________________________________________________________________________________\n",
      "Layer (type)                    Output Shape         Param #     Connected to                     \n",
      "==================================================================================================\n",
      "input_1 (InputLayer)            [(None, None)]       0                                            \n",
      "__________________________________________________________________________________________________\n",
      "input_2 (InputLayer)            [(None, None)]       0                                            \n",
      "__________________________________________________________________________________________________\n",
      "embedding (Embedding)           (None, None, 128)    610432      input_1[0][0]                    \n",
      "__________________________________________________________________________________________________\n",
      "embedding_1 (Embedding)         (None, None, 128)    1117184     input_2[0][0]                    \n",
      "__________________________________________________________________________________________________\n",
      "masking (Masking)               (None, None, 128)    0           embedding[0][0]                  \n",
      "__________________________________________________________________________________________________\n",
      "masking_1 (Masking)             (None, None, 128)    0           embedding_1[0][0]                \n",
      "__________________________________________________________________________________________________\n",
      "lstm (LSTM)                     [(None, 128), (None, 131584      masking[0][0]                    \n",
      "__________________________________________________________________________________________________\n",
      "lstm_1 (LSTM)                   [(None, None, 128),  131584      masking_1[0][0]                  \n",
      "                                                                 lstm[0][1]                       \n",
      "                                                                 lstm[0][2]                       \n",
      "__________________________________________________________________________________________________\n",
      "dense (Dense)                   (None, None, 8728)   1125912     lstm_1[0][0]                     \n",
      "==================================================================================================\n",
      "Total params: 3,116,696\n",
      "Trainable params: 3,116,696\n",
      "Non-trainable params: 0\n",
      "__________________________________________________________________________________________________\n"
     ]
    }
   ],
   "source": [
    "# 디코더\n",
    "decoder_inputs = Input(shape=(None,))\n",
    "dec_emb_layer = Embedding(tar_vocab_size, hidden_units) # 임베딩 층\n",
    "dec_emb = dec_emb_layer(decoder_inputs) # 패딩 0은 연산에서 제외\n",
    "dec_masking = Masking(mask_value=0.0)(dec_emb)\n",
    "\n",
    "# 상태값 리턴을 위해 return_state는 True, 모든 시점에 대해서 단어를 예측하기 위해 return_sequences는 True\n",
    "decoder_lstm = LSTM(hidden_units, dropout = 0.4, recurrent_dropout=0.4, return_sequences=True, return_state=True) \n",
    "\n",
    "# 인코더의 은닉 상태를 초기 은닉 상태(initial_state)로 사용\n",
    "decoder_outputs, _, _ = decoder_lstm(dec_masking,\n",
    "                                     initial_state=encoder_states)\n",
    "\n",
    "# 모든 시점의 결과에 대해서 소프트맥스 함수를 사용한 출력층을 통해 단어 예측\n",
    "decoder_dense = Dense(tar_vocab_size, activation='softmax')\n",
    "decoder_outputs = decoder_dense(decoder_outputs)\n",
    "\n",
    "# 모델의 입력과 출력을 정의.\n",
    "model = Model([encoder_inputs, decoder_inputs], decoder_outputs)\n",
    "\n",
    "model.compile(optimizer='adam', loss='sparse_categorical_crossentropy')\n",
    "\n",
    "model.summary()"
   ]
  },
  {
   "cell_type": "markdown",
   "id": "81431a89",
   "metadata": {},
   "source": [
    "### 4-2. 모델 훈련하기"
   ]
  },
  {
   "cell_type": "code",
   "execution_count": 15,
   "id": "f7b080ca",
   "metadata": {},
   "outputs": [
    {
     "name": "stdout",
     "output_type": "stream",
     "text": [
      "Epoch 1/50\n",
      "235/235 [==============================] - 31s 109ms/step - loss: 2.8095 - val_loss: 1.8529\n",
      "Epoch 2/50\n",
      "235/235 [==============================] - 25s 104ms/step - loss: 1.7452 - val_loss: 1.6542\n",
      "Epoch 3/50\n",
      "235/235 [==============================] - 24s 103ms/step - loss: 1.6047 - val_loss: 1.5640\n",
      "Epoch 4/50\n",
      "235/235 [==============================] - 24s 103ms/step - loss: 1.5135 - val_loss: 1.4733\n",
      "Epoch 5/50\n",
      "235/235 [==============================] - 24s 102ms/step - loss: 1.3994 - val_loss: 1.3539\n",
      "Epoch 6/50\n",
      "235/235 [==============================] - 24s 103ms/step - loss: 1.2786 - val_loss: 1.2581\n",
      "Epoch 7/50\n",
      "235/235 [==============================] - 24s 104ms/step - loss: 1.1865 - val_loss: 1.1899\n",
      "Epoch 8/50\n",
      "235/235 [==============================] - 25s 104ms/step - loss: 1.1143 - val_loss: 1.1398\n",
      "Epoch 9/50\n",
      "235/235 [==============================] - 25s 107ms/step - loss: 1.0540 - val_loss: 1.0976\n",
      "Epoch 10/50\n",
      "235/235 [==============================] - 24s 101ms/step - loss: 1.0026 - val_loss: 1.0625\n",
      "Epoch 11/50\n",
      "235/235 [==============================] - 25s 106ms/step - loss: 0.9550 - val_loss: 1.0312\n",
      "Epoch 12/50\n",
      "235/235 [==============================] - 24s 104ms/step - loss: 0.9118 - val_loss: 0.9976\n",
      "Epoch 13/50\n",
      "235/235 [==============================] - 25s 105ms/step - loss: 0.8705 - val_loss: 0.9700\n",
      "Epoch 14/50\n",
      "235/235 [==============================] - 24s 103ms/step - loss: 0.8331 - val_loss: 0.9482\n",
      "Epoch 15/50\n",
      "235/235 [==============================] - 24s 103ms/step - loss: 0.7969 - val_loss: 0.9249\n",
      "Epoch 16/50\n",
      "235/235 [==============================] - 25s 106ms/step - loss: 0.7634 - val_loss: 0.9003\n",
      "Epoch 17/50\n",
      "235/235 [==============================] - 24s 101ms/step - loss: 0.7318 - val_loss: 0.8832\n",
      "Epoch 18/50\n",
      "235/235 [==============================] - 24s 103ms/step - loss: 0.7011 - val_loss: 0.8631\n",
      "Epoch 19/50\n",
      "235/235 [==============================] - 24s 103ms/step - loss: 0.6734 - val_loss: 0.8455\n",
      "Epoch 20/50\n",
      "235/235 [==============================] - 24s 103ms/step - loss: 0.6473 - val_loss: 0.8311\n",
      "Epoch 21/50\n",
      "235/235 [==============================] - 25s 106ms/step - loss: 0.6218 - val_loss: 0.8160\n",
      "Epoch 22/50\n",
      "235/235 [==============================] - 24s 103ms/step - loss: 0.5983 - val_loss: 0.8028\n",
      "Epoch 23/50\n",
      "235/235 [==============================] - 24s 102ms/step - loss: 0.5763 - val_loss: 0.7924\n",
      "Epoch 24/50\n",
      "235/235 [==============================] - 24s 104ms/step - loss: 0.5550 - val_loss: 0.7786\n",
      "Epoch 25/50\n",
      "235/235 [==============================] - 25s 106ms/step - loss: 0.5348 - val_loss: 0.7677\n",
      "Epoch 26/50\n",
      "235/235 [==============================] - 24s 103ms/step - loss: 0.5152 - val_loss: 0.7592\n",
      "Epoch 27/50\n",
      "235/235 [==============================] - 25s 105ms/step - loss: 0.4973 - val_loss: 0.7510\n",
      "Epoch 28/50\n",
      "235/235 [==============================] - 24s 102ms/step - loss: 0.4800 - val_loss: 0.7404\n",
      "Epoch 29/50\n",
      "235/235 [==============================] - 25s 104ms/step - loss: 0.4634 - val_loss: 0.7309\n",
      "Epoch 30/50\n",
      "235/235 [==============================] - 24s 103ms/step - loss: 0.4481 - val_loss: 0.7234\n",
      "Epoch 31/50\n",
      "235/235 [==============================] - 24s 103ms/step - loss: 0.4338 - val_loss: 0.7175\n",
      "Epoch 32/50\n",
      "235/235 [==============================] - 24s 102ms/step - loss: 0.4190 - val_loss: 0.7151\n",
      "Epoch 33/50\n",
      "235/235 [==============================] - 24s 102ms/step - loss: 0.4056 - val_loss: 0.7060\n",
      "Epoch 34/50\n",
      "235/235 [==============================] - 24s 104ms/step - loss: 0.3938 - val_loss: 0.6994\n",
      "Epoch 35/50\n",
      "235/235 [==============================] - 24s 103ms/step - loss: 0.3814 - val_loss: 0.6949\n",
      "Epoch 36/50\n",
      "235/235 [==============================] - 24s 103ms/step - loss: 0.3709 - val_loss: 0.6935\n",
      "Epoch 37/50\n",
      "235/235 [==============================] - 24s 103ms/step - loss: 0.3603 - val_loss: 0.6863\n",
      "Epoch 38/50\n",
      "235/235 [==============================] - 24s 104ms/step - loss: 0.3506 - val_loss: 0.6847\n",
      "Epoch 39/50\n",
      "235/235 [==============================] - 25s 105ms/step - loss: 0.3399 - val_loss: 0.6807\n",
      "Epoch 40/50\n",
      "235/235 [==============================] - 24s 103ms/step - loss: 0.3312 - val_loss: 0.6754\n",
      "Epoch 41/50\n",
      "235/235 [==============================] - 24s 102ms/step - loss: 0.3233 - val_loss: 0.6739\n",
      "Epoch 42/50\n",
      "235/235 [==============================] - 25s 104ms/step - loss: 0.3143 - val_loss: 0.6729\n",
      "Epoch 43/50\n",
      "235/235 [==============================] - 24s 103ms/step - loss: 0.3069 - val_loss: 0.6694\n",
      "Epoch 44/50\n",
      "235/235 [==============================] - 24s 103ms/step - loss: 0.3007 - val_loss: 0.6679\n",
      "Epoch 45/50\n",
      "235/235 [==============================] - 24s 104ms/step - loss: 0.2936 - val_loss: 0.6643\n",
      "Epoch 46/50\n",
      "235/235 [==============================] - 24s 104ms/step - loss: 0.2869 - val_loss: 0.6640\n",
      "Epoch 47/50\n",
      "235/235 [==============================] - 24s 103ms/step - loss: 0.2804 - val_loss: 0.6646\n",
      "Epoch 48/50\n",
      "235/235 [==============================] - 24s 102ms/step - loss: 0.2739 - val_loss: 0.6625\n",
      "Epoch 49/50\n",
      "235/235 [==============================] - 24s 104ms/step - loss: 0.2688 - val_loss: 0.6616\n",
      "Epoch 50/50\n",
      "235/235 [==============================] - 24s 104ms/step - loss: 0.2631 - val_loss: 0.6597\n"
     ]
    }
   ],
   "source": [
    "history = model.fit(x=[encoder_input_train, decoder_input_train], y=decoder_target_train, \\\n",
    "          validation_data=([encoder_input_test, decoder_input_test], decoder_target_test),\n",
    "          batch_size=128, epochs=50)"
   ]
  },
  {
   "cell_type": "markdown",
   "id": "947469ac",
   "metadata": {},
   "source": [
    "### 4-3. 모델 훈련결과 시각화"
   ]
  },
  {
   "cell_type": "code",
   "execution_count": 16,
   "id": "d4bfaf0c",
   "metadata": {},
   "outputs": [
    {
     "name": "stdout",
     "output_type": "stream",
     "text": [
      "dict_keys(['loss', 'val_loss'])\n"
     ]
    }
   ],
   "source": [
    "history_dict = history.history\n",
    "print(history_dict.keys())"
   ]
  },
  {
   "cell_type": "code",
   "execution_count": 17,
   "id": "92269838",
   "metadata": {},
   "outputs": [
    {
     "data": {
      "image/png": "[encoded data removed]",
      "text/plain": [
       "<Figure size 432x288 with 1 Axes>"
      ]
     },
     "metadata": {
      "needs_background": "light"
     },
     "output_type": "display_data"
    }
   ],
   "source": [
    "loss = history_dict['loss']\n",
    "val_loss = history_dict['val_loss']\n",
    "\n",
    "epochs = range(1, len(loss) + 1)\n",
    "\n",
    "# bo는 파란색 점\n",
    "plt.plot(epochs, loss, 'bo', label='Training loss')\n",
    "# b는 파란색 실선\n",
    "plt.plot(epochs, val_loss, 'b', label='Validation loss')\n",
    "plt.title('Training and validation loss')\n",
    "plt.xlabel('Epochs')\n",
    "plt.ylabel('Loss')\n",
    "plt.legend()\n",
    "\n",
    "plt.show()"
   ]
  },
  {
   "cell_type": "markdown",
   "id": "ca7b2687",
   "metadata": {},
   "source": [
    "#### Validation loss가 epoch 10 (1.1755)까지 급격히 떨어진 이후 epoch 50 (0.7291)까지 완만히 떨어지고 있다."
   ]
  },
  {
   "cell_type": "markdown",
   "id": "5a493361",
   "metadata": {},
   "source": [
    "## 5. 테스트 모델 구현하기"
   ]
  },
  {
   "cell_type": "code",
   "execution_count": 18,
   "id": "e3a278e8",
   "metadata": {},
   "outputs": [
    {
     "name": "stdout",
     "output_type": "stream",
     "text": [
      "Model: \"model_1\"\n",
      "_________________________________________________________________\n",
      "Layer (type)                 Output Shape              Param #   \n",
      "=================================================================\n",
      "input_1 (InputLayer)         [(None, None)]            0         \n",
      "_________________________________________________________________\n",
      "embedding (Embedding)        (None, None, 128)         610432    \n",
      "_________________________________________________________________\n",
      "masking (Masking)            (None, None, 128)         0         \n",
      "_________________________________________________________________\n",
      "lstm (LSTM)                  [(None, 128), (None, 128) 131584    \n",
      "=================================================================\n",
      "Total params: 742,016\n",
      "Trainable params: 742,016\n",
      "Non-trainable params: 0\n",
      "_________________________________________________________________\n"
     ]
    }
   ],
   "source": [
    "# 인코더\n",
    "encoder_model = Model(encoder_inputs, encoder_states)\n",
    "encoder_model.summary()"
   ]
  },
  {
   "cell_type": "code",
   "execution_count": 19,
   "id": "b4e36e19",
   "metadata": {},
   "outputs": [
    {
     "name": "stdout",
     "output_type": "stream",
     "text": [
      "Model: \"model_2\"\n",
      "__________________________________________________________________________________________________\n",
      "Layer (type)                    Output Shape         Param #     Connected to                     \n",
      "==================================================================================================\n",
      "input_2 (InputLayer)            [(None, None)]       0                                            \n",
      "__________________________________________________________________________________________________\n",
      "embedding_1 (Embedding)         (None, None, 128)    1117184     input_2[0][0]                    \n",
      "__________________________________________________________________________________________________\n",
      "input_3 (InputLayer)            [(None, 128)]        0                                            \n",
      "__________________________________________________________________________________________________\n",
      "input_4 (InputLayer)            [(None, 128)]        0                                            \n",
      "__________________________________________________________________________________________________\n",
      "lstm_1 (LSTM)                   [(None, None, 128),  131584      embedding_1[1][0]                \n",
      "                                                                 input_3[0][0]                    \n",
      "                                                                 input_4[0][0]                    \n",
      "__________________________________________________________________________________________________\n",
      "dense (Dense)                   (None, None, 8728)   1125912     lstm_1[1][0]                     \n",
      "==================================================================================================\n",
      "Total params: 2,374,680\n",
      "Trainable params: 2,374,680\n",
      "Non-trainable params: 0\n",
      "__________________________________________________________________________________________________\n"
     ]
    }
   ],
   "source": [
    "# 디코더 설계 시작\n",
    "# 이전 시점의 상태를 보관할 텐서\n",
    "decoder_state_input_h = Input(shape=(hidden_units,))\n",
    "decoder_state_input_c = Input(shape=(hidden_units,))\n",
    "decoder_states_inputs = [decoder_state_input_h, decoder_state_input_c]\n",
    "\n",
    "# 훈련 때 사용했던 임베딩 층을 재사용\n",
    "dec_emb2 = dec_emb_layer(decoder_inputs)\n",
    "\n",
    "# 다음 단어 예측을 위해 이전 시점의 상태를 현 시점의 초기 상태로 사용\n",
    "decoder_outputs2, state_h2, state_c2 = decoder_lstm(dec_emb2, initial_state=decoder_states_inputs)\n",
    "decoder_states2 = [state_h2, state_c2]\n",
    "\n",
    "# 모든 시점에 대해서 단어 예측\n",
    "decoder_outputs2 = decoder_dense(decoder_outputs2)\n",
    "\n",
    "# 수정된 디코더\n",
    "decoder_model = Model(\n",
    "    [decoder_inputs] + decoder_states_inputs,\n",
    "    [decoder_outputs2] + decoder_states2)\n",
    "\n",
    "decoder_model.summary()"
   ]
  },
  {
   "cell_type": "code",
   "execution_count": 20,
   "id": "72c78ac9",
   "metadata": {},
   "outputs": [],
   "source": [
    "def decode_sequence(input_seq):\n",
    "    # 입력으로부터 인코더의 마지막 시점의 상태(은닉 상태, 셀 상태)를 얻음\n",
    "    states_value = encoder_model.predict(input_seq)\n",
    "\n",
    "    # SOS_token에 해당하는 정수 생성\n",
    "    target_seq = np.zeros((1,1))\n",
    "    target_seq[0, 0] = tar_to_index['<sos>']\n",
    "\n",
    "    stop_condition = False\n",
    "    decoded_sentence = ''\n",
    "\n",
    "    # stop_condition이 True가 될 때까지 루프 반복\n",
    "    # 구현의 간소화를 위해서 이 함수는 배치 크기를 1로 가정합니다.\n",
    "    while not stop_condition:\n",
    "        # 이점 시점의 상태 states_value를 현 시점의 초기 상태로 사용\n",
    "        output_tokens, h, c = decoder_model.predict([target_seq] + states_value)\n",
    "\n",
    "        # 예측 결과를 단어로 변환\n",
    "        sampled_token_index = np.argmax(output_tokens[0, -1, :])\n",
    "        sampled_char = index_to_tar[sampled_token_index]\n",
    "\n",
    "        # 현재 시점의 예측 단어를 예측 문장에 추가\n",
    "        decoded_sentence += ' '+sampled_char\n",
    "\n",
    "        # <eos>에 도달하거나 정해진 길이를 넘으면 중단.\n",
    "        if (sampled_char == '<eos>' or\n",
    "            len(decoded_sentence) > 50):\n",
    "            stop_condition = True\n",
    "\n",
    "        # 현재 시점의 예측 결과를 다음 시점의 입력으로 사용하기 위해 저장\n",
    "        target_seq = np.zeros((1,1))\n",
    "        target_seq[0, 0] = sampled_token_index\n",
    "\n",
    "        # 현재 시점의 상태를 다음 시점의 상태로 사용하기 위해 저장\n",
    "        states_value = [h, c]\n",
    "\n",
    "    return decoded_sentence"
   ]
  },
  {
   "cell_type": "code",
   "execution_count": 21,
   "id": "eac66052",
   "metadata": {},
   "outputs": [],
   "source": [
    "# 원문의 정수 시퀀스를 텍스트 시퀀스로 변환\n",
    "def seq_to_src(input_seq):\n",
    "    sentence = ''\n",
    "    for encoded_word in input_seq:\n",
    "        if(encoded_word != 0):\n",
    "            sentence = sentence + index_to_src[encoded_word] + ' '\n",
    "    return sentence\n",
    "\n",
    "# 번역문의 정수 시퀀스를 텍스트 시퀀스로 변환\n",
    "def seq_to_tar(input_seq):\n",
    "    sentence = ''\n",
    "    for encoded_word in input_seq:\n",
    "        if(encoded_word != 0 and encoded_word != tar_to_index['<sos>'] and encoded_word != tar_to_index['<eos>']):\n",
    "            sentence = sentence + index_to_tar[encoded_word] + ' '\n",
    "    return sentence"
   ]
  },
  {
   "cell_type": "code",
   "execution_count": 22,
   "id": "536cfc4b",
   "metadata": {},
   "outputs": [
    {
     "name": "stdout",
     "output_type": "stream",
     "text": [
      "-----------------------------------\n",
      "입력문장 : everyone can play . \n",
      "정답문장 : tout le monde peut y jouer . \n",
      "번역문장 : tout le monde le francais . \n",
      "-----------------------------------\n",
      "입력문장 : come over . \n",
      "정답문장 : venez chez moi ! \n",
      "번역문장 : venez ici . \n",
      "-----------------------------------\n",
      "입력문장 : forget what i said . \n",
      "정답문장 : oubliez ce que j'ai dit ! \n",
      "번역문장 : oublie ce que j'ai dit . \n",
      "-----------------------------------\n",
      "입력문장 : wash everything . \n",
      "정답문장 : lave tout . \n",
      "번역문장 : nettoie tout . \n",
      "-----------------------------------\n",
      "입력문장 : tom has red hair . \n",
      "정답문장 : tom a les cheveux roux . \n",
      "번역문장 : tom a les cheveux rouges . \n"
     ]
    }
   ],
   "source": [
    "# 테스트 해보기\n",
    "for seq_index in [500,1000,1500,2000,2500]:\n",
    "    input_seq = encoder_input_test[seq_index: seq_index + 1]\n",
    "    decoded_sentence = decode_sequence(input_seq)\n",
    "    \n",
    "    print(35 * \"-\")\n",
    "    print(\"입력문장 :\",seq_to_src(encoder_input_test[seq_index]))\n",
    "    print(\"정답문장 :\",seq_to_tar(decoder_input_test[seq_index]))\n",
    "    print(\"번역문장 :\",decoded_sentence[1:-5])"
   ]
  },
  {
   "cell_type": "markdown",
   "id": "1d5d7e8f",
   "metadata": {},
   "source": [
    "## 한글로 번역 (구글번역)하여 비교"
   ]
  },
  {
   "cell_type": "markdown",
   "id": "ab255eaf",
   "metadata": {},
   "source": [
    "-----------------------------------\n",
    "입력문장 : everyone can play . (모두가 재생할 수 있습니다)\n",
    "\n",
    "정답문장 : tout le monde peut y jouer . (누구나 재생할 수 있습니다)\n",
    "\n",
    "번역문장 : tout le monde le francais . (모두 프랑스)\n",
    "\n",
    "-----------------------------------\n",
    "입력문장 : come over . (이리와)\n",
    "\n",
    "정답문장 : venez chez moi ! (집으로와)\n",
    "\n",
    "번역문장 : venez ici . (여기와)\n",
    "\n",
    "-----------------------------------\n",
    "입력문장 : forget what i said . (내가 말한 건 잊어)\n",
    "\n",
    "정답문장 : oubliez ce que j'ai dit ! (내가 말한 건 잊어)\n",
    "\n",
    "번역문장 : oublie ce que j'ai dit . (내가 말한 건 잊어)\n",
    "\n",
    "-----------------------------------\n",
    "입력문장 : wash everything . (모든 것을 씻다)\n",
    "\n",
    "정답문장 : lave tout . (모든 것을 씻다)\n",
    "\n",
    "번역문장 : nettoie tout . (모든 것을 청소)\n",
    "\n",
    "-----------------------------------\n",
    "입력문장 : tom has red hair . (톰은 빨간 머리를 하고 있다)\n",
    "\n",
    "정답문장 : tom a les cheveux roux . (톰은 빨간 머리를 하고 있다)\n",
    "\n",
    "번역문장 : tom a les cheveux rouges . (톰은 빨간 머리를 하고 있다)"
   ]
  },
  {
   "cell_type": "markdown",
   "id": "b935735e",
   "metadata": {},
   "source": [
    "#### 번역기가 기능적으로 잘 작동하고 있고 30,000개의 데이타로 20여분 훈련한 성과치곤 우수한 편이다."
   ]
  },
  {
   "cell_type": "markdown",
   "id": "c48c545e",
   "metadata": {},
   "source": [
    "## 회고\n",
    "### 이번 프로젝트에서 어려웠던 점\n",
    "\n",
    "model.fit 과정에서 \"valueerror: shapes (none, 14) and (none, 14, 11164) are incompatible\"가 발생 하였는데 해결하느라 무척 애를 먹었다. 구글링, 유튜브 검색을 아무리 해봐도 해결하지 못하다가 우연히 구글링에서 답을 찾았다. model.compile시 loss function을 one-hot-encoding시 적용하는 \"categorical_crossentropy\"에서 label값이 정수인 경우 사용하는 \"sparse_categorical_crossentropy\"로 바꾸어주니 해결되었다. \n",
    "\n",
    "### 프로젝트를 진행하면서 알아낸 점 혹은 아직 모호한 점\n",
    "\n",
    "앞부분 sample이 상대적으로 짧은문장으로 되어있어 중간부분에서 선택해 보았는데 전처리 과정 중 대문자를 소문자로 바꾸어주는 line.lower() 기능이 작동되지 않았다. 아무리 생각해 봐도 이유를 모르겠다.\n",
    "\n",
    "### 루브릭 평가 지표를 맞추기 위해 시도한 것들\n",
    "\n",
    "1. Validation loss가 지속적으로 우하향하지 않아 overfitting이 발생한다고 보아 dropout 및 recurrent_dropout을 적용하였다. 다소 개선되었으나 training loss가 꾸준히 줄어드는 많큼 줄어들지 않는다.\n",
    "2. optimizer를 rmsprop에서 보편적으로 많이 사용하는 adam으로 바꾸었다.\n",
    "3. embedding_dim, hidden_units 및 batch_size 등을 바꾸어 보았다.\n",
    "\n",
    "### 만약에 루브릭 평가 관련 지표를 달성 하지 못했을 때, 이유에 관한 추정\n",
    "\n",
    "번역성능 개선을 위하여 Sample 양을 늘리고 싶었으나 33,000개를 사용하라는 조건이 있어 시도하지 않았다.\n",
    "\n",
    "### 자기 다짐\n",
    "\n",
    "아직 모델작성 및 성능개선 방법이 미숙하다. 첫술에 배부르랴. 앞으로의 과정도 열심히 하자."
   ]
  },
  {
   "cell_type": "code",
   "execution_count": null,
   "id": "ae9e2b0b",
   "metadata": {},
   "outputs": [],
   "source": []
  }
 ],
 "metadata": {
  "kernelspec": {
   "display_name": "Python 3 (ipykernel)",
   "language": "python",
   "name": "python3"
  },
  "language_info": {
   "codemirror_mode": {
    "name": "ipython",
    "version": 3
   },
   "file_extension": ".py",
   "mimetype": "text/x-python",
   "name": "python",
   "nbconvert_exporter": "python",
   "pygments_lexer": "ipython3",
   "version": "3.9.7"
  }
 },
 "nbformat": 4,
 "nbformat_minor": 5
}
